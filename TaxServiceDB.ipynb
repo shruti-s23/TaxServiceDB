{
 "cells": [
  {
   "cell_type": "code",
   "execution_count": 2,
   "id": "872c8ac5",
   "metadata": {},
   "outputs": [
    {
     "name": "stdout",
     "output_type": "stream",
     "text": [
      "Collecting faker\n",
      "  Obtaining dependency information for faker from https://files.pythonhosted.org/packages/b5/e6/403ba67c3d0ab4b31030f2ff22428f7a0cfe2010ce4bf9579e1ebdf808fa/Faker-30.3.0-py3-none-any.whl.metadata\n",
      "  Downloading Faker-30.3.0-py3-none-any.whl.metadata (15 kB)\n",
      "Requirement already satisfied: python-dateutil>=2.4 in ./anaconda3/lib/python3.11/site-packages (from faker) (2.8.2)\n",
      "Requirement already satisfied: typing-extensions in ./anaconda3/lib/python3.11/site-packages (from faker) (4.7.1)\n",
      "Requirement already satisfied: six>=1.5 in ./anaconda3/lib/python3.11/site-packages (from python-dateutil>=2.4->faker) (1.16.0)\n",
      "Downloading Faker-30.3.0-py3-none-any.whl (1.8 MB)\n",
      "\u001b[2K   \u001b[90m━━━━━━━━━━━━━━━━━━━━━━━━━━━━━━━━━━━━━━━━\u001b[0m \u001b[32m1.8/1.8 MB\u001b[0m \u001b[31m2.9 MB/s\u001b[0m eta \u001b[36m0:00:00\u001b[0m00:01\u001b[0m00:01\u001b[0m\n",
      "\u001b[?25hInstalling collected packages: faker\n",
      "Successfully installed faker-30.3.0\n"
     ]
    }
   ],
   "source": [
    "!pip install faker"
   ]
  },
  {
   "cell_type": "code",
   "execution_count": 3,
   "id": "09a26e23",
   "metadata": {},
   "outputs": [],
   "source": [
    "from faker import Faker\n",
    "import random\n",
    "import pandas as pd\n",
    "\n",
    "fake = Faker()\n",
    "num_records = 100"
   ]
  },
  {
   "cell_type": "code",
   "execution_count": 5,
   "id": "c9b29d8c",
   "metadata": {},
   "outputs": [
    {
     "name": "stdout",
     "output_type": "stream",
     "text": [
      "Taxpayer dataset generated and saved to 'synthetic_taxpayer_data.csv'.\n"
     ]
    }
   ],
   "source": [
    "taxpayer_data = []\n",
    "for i in range(1, num_records + 1):\n",
    "    taxpayer = {\n",
    "        \"TaxpayerID\": i,\n",
    "        \"Name\": fake.name(),\n",
    "        \"PAN\": fake.random_uppercase_letter() + str(fake.random_int(min=100000, max=999999)) + fake.random_uppercase_letter() + str(fake.random_int(min=1000, max=9999)),\n",
    "        \"DateOfBirth\": fake.date_of_birth(minimum_age=18, maximum_age=75),\n",
    "        \"Contact\": fake.phone_number(),\n",
    "        \"Address\": fake.address().replace(\"\\n\", \", \")\n",
    "    }\n",
    "    taxpayer_data.append(taxpayer)\n",
    "\n",
    "taxpayer_df = pd.DataFrame(taxpayer_data)\n",
    "taxpayer_df.to_csv('synthetic_taxpayer_data.csv', index=False)\n",
    "\n",
    "print(\"Taxpayer dataset generated and saved to 'synthetic_taxpayer_data.csv'.\")"
   ]
  },
  {
   "cell_type": "code",
   "execution_count": 6,
   "id": "5d3e48a1",
   "metadata": {},
   "outputs": [
    {
     "name": "stdout",
     "output_type": "stream",
     "text": [
      "Income dataset generated and saved to 'synthetic_income_data.csv'.\n"
     ]
    }
   ],
   "source": [
    "income_data = []\n",
    "for i in range(1, num_records + 1):\n",
    "    income = {\n",
    "        \"IncomeID\": i,\n",
    "        \"TaxpayerID\": random.randint(1, num_records),\n",
    "        \"FilingYear\": random.choice([2021, 2022, 2023]),\n",
    "        \"IncomeAmount\": round(random.uniform(300000, 1500000), 2),\n",
    "        \"IncomeSource\": random.choice([\"Salary\", \"Business\", \"Investments\", \"Other\"])\n",
    "    }\n",
    "    income_data.append(income)\n",
    "\n",
    "income_df = pd.DataFrame(income_data)\n",
    "income_df.to_csv('synthetic_income_data.csv', index=False)\n",
    "\n",
    "print(\"Income dataset generated and saved to 'synthetic_income_data.csv'.\")"
   ]
  },
  {
   "cell_type": "code",
   "execution_count": 7,
   "id": "f4dd2ba9",
   "metadata": {},
   "outputs": [
    {
     "name": "stdout",
     "output_type": "stream",
     "text": [
      "Deductions dataset generated and saved to 'synthetic_deductions_data.csv'.\n"
     ]
    }
   ],
   "source": [
    "deduction_data = []\n",
    "for i in range(1, num_records + 1):\n",
    "    deduction = {\n",
    "        \"DeductionID\": i,\n",
    "        \"TaxpayerID\": random.randint(1, num_records),\n",
    "        \"FilingYear\": random.choice([2021, 2022, 2023]),\n",
    "        \"DeductionType\": random.choice([\"80C\", \"80D\", \"80G\", \"Others\"]),\n",
    "        \"DeductionAmount\": round(random.uniform(10000, 200000), 2)\n",
    "    }\n",
    "    deduction_data.append(deduction)\n",
    "\n",
    "deduction_df = pd.DataFrame(deduction_data)\n",
    "deduction_df.to_csv('synthetic_deductions_data.csv', index=False)\n",
    "\n",
    "print(\"Deductions dataset generated and saved to 'synthetic_deductions_data.csv'.\")"
   ]
  },
  {
   "cell_type": "code",
   "execution_count": 8,
   "id": "d82bbd2e",
   "metadata": {},
   "outputs": [
    {
     "name": "stdout",
     "output_type": "stream",
     "text": [
      "Tax filing dataset generated and saved to 'synthetic_filing_data.csv'.\n"
     ]
    }
   ],
   "source": [
    "filing_data = []\n",
    "for i in range(1, num_records + 1):\n",
    "    filing = {\n",
    "        \"FilingID\": i,\n",
    "        \"TaxpayerID\": random.randint(1, num_records),\n",
    "        \"FilingYear\": random.choice([2021, 2022, 2023]),\n",
    "        \"TaxableIncome\": round(random.uniform(300000, 1500000), 2),\n",
    "        \"TaxOwed\": round(random.uniform(10000, 300000), 2),\n",
    "        \"TaxPaid\": round(random.uniform(10000, 300000), 2)\n",
    "    }\n",
    "    filing_data.append(filing)\n",
    "\n",
    "filing_df = pd.DataFrame(filing_data)\n",
    "filing_df.to_csv('synthetic_filing_data.csv', index=False)\n",
    "\n",
    "print(\"Tax filing dataset generated and saved to 'synthetic_filing_data.csv'.\")"
   ]
  },
  {
   "cell_type": "code",
   "execution_count": 9,
   "id": "3f2fe3e0",
   "metadata": {},
   "outputs": [
    {
     "name": "stdout",
     "output_type": "stream",
     "text": [
      "Payment dataset generated and saved to 'synthetic_payment_data.csv'.\n"
     ]
    }
   ],
   "source": [
    "payment_data = []\n",
    "for i in range(1, num_records + 1):\n",
    "    payment = {\n",
    "        \"PaymentID\": i,\n",
    "        \"TaxpayerID\": random.randint(1, num_records),\n",
    "        \"PaymentDate\": fake.date_between(start_date='-3y', end_date='today'),\n",
    "        \"PaymentAmount\": round(random.uniform(5000, 300000), 2),\n",
    "        \"PaymentMethod\": random.choice([\"Credit Card\", \"Debit Card\", \"Net Banking\", \"UPI\"])\n",
    "    }\n",
    "    payment_data.append(payment)\n",
    "\n",
    "payment_df = pd.DataFrame(payment_data)\n",
    "payment_df.to_csv('synthetic_payment_data.csv', index=False)\n",
    "\n",
    "print(\"Payment dataset generated and saved to 'synthetic_payment_data.csv'.\")"
   ]
  }
 ],
 "metadata": {
  "kernelspec": {
   "display_name": "Python 3 (ipykernel)",
   "language": "python",
   "name": "python3"
  },
  "language_info": {
   "codemirror_mode": {
    "name": "ipython",
    "version": 3
   },
   "file_extension": ".py",
   "mimetype": "text/x-python",
   "name": "python",
   "nbconvert_exporter": "python",
   "pygments_lexer": "ipython3",
   "version": "3.11.5"
  }
 },
 "nbformat": 4,
 "nbformat_minor": 5
}
